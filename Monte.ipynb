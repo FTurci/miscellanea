{
 "cells": [
  {
   "cell_type": "code",
   "execution_count": null,
   "metadata": {
    "collapsed": false
   },
   "outputs": [],
   "source": [
    "%matplotlib nbagg\n",
    "%pylab inline"
   ]
  },
  {
   "cell_type": "code",
   "execution_count": 1,
   "metadata": {
    "collapsed": false
   },
   "outputs": [
    {
     "name": "stdout",
     "output_type": "stream",
     "text": [
      "10 3.6\n",
      "100 3.2\n",
      "1000 3.164\n",
      "10000 3.1356\n",
      "100000 3.13996\n"
     ]
    }
   ],
   "source": [
    "from random import uniform as ran\n",
    "def direct_pi(N):\n",
    "    N_hits=0 # initialize\n",
    "    for i in range(N):\n",
    "        x,y=ran(0.,1.),ran(0,1.)\n",
    "        if x**2 + y**2 < 1: \n",
    "            N_hits += 1\n",
    "    return N_hits\n",
    "#\n",
    "for trial in [10,100,1000,10000, 100000]:\n",
    "    print trial, direct_pi(trial)/(trial/4.)\n",
    "\n"
   ]
  },
  {
   "cell_type": "code",
   "execution_count": 2,
   "metadata": {
    "collapsed": false
   },
   "outputs": [
    {
     "name": "stdout",
     "output_type": "stream",
     "text": [
      "10 4.0\n",
      "100 3.8\n",
      "1000 2.828\n",
      "10000 3.1764\n",
      "100000 3.1542\n",
      "True pi 3.14159265359\n"
     ]
    }
   ],
   "source": [
    "from random import uniform\n",
    "def markov_pi(delta,N):\n",
    "    x,y=0,0 \n",
    "    N_hits=0\n",
    "    for i in range(N):\n",
    "        del_x,del_y=uniform(-delta,delta),uniform(-delta,delta)\n",
    "        if abs(x+del_x) < 1 and abs(y+del_y) < 1:\n",
    "            x,y=x+del_x, y+del_y\n",
    "        if x**2 + y**2 < 1:\n",
    "            N_hits += 1\n",
    "    return N_hits\n",
    "\n",
    "for trial in [10,100,1000,10000, 100000]:\n",
    "    print trial, markov_pi(0.3,trial)/(trial/4.)\n",
    "import math\n",
    "print \"True pi\",math.pi"
   ]
  },
  {
   "cell_type": "code",
   "execution_count": 11,
   "metadata": {
    "collapsed": false
   },
   "outputs": [
    {
     "name": "stdout",
     "output_type": "stream",
     "text": [
      "Once deleted, variables cannot be recovered. Proceed (y/[n])? y\n"
     ]
    }
   ],
   "source": [
    "%reset\n"
   ]
  },
  {
   "cell_type": "code",
   "execution_count": null,
   "metadata": {
    "collapsed": true
   },
   "outputs": [],
   "source": [
    "more final.txt"
   ]
  },
  {
   "cell_type": "code",
   "execution_count": null,
   "metadata": {
    "collapsed": true
   },
   "outputs": [],
   "source": []
  }
 ],
 "metadata": {
  "kernelspec": {
   "display_name": "Python 2",
   "language": "python",
   "name": "python2"
  },
  "language_info": {
   "codemirror_mode": {
    "name": "ipython",
    "version": 2
   },
   "file_extension": ".py",
   "mimetype": "text/x-python",
   "name": "python",
   "nbconvert_exporter": "python",
   "pygments_lexer": "ipython2",
   "version": "2.7.10"
  }
 },
 "nbformat": 4,
 "nbformat_minor": 0
}
